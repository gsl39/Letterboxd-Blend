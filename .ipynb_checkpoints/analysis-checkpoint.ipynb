{
 "cells": [
  {
   "cell_type": "code",
   "execution_count": 118,
   "id": "c4be91a8-09d6-44a0-89e0-80eef676eeb6",
   "metadata": {},
   "outputs": [],
   "source": [
    "from dotenv import load_dotenv\n",
    "import os\n",
    "from supabase import create_client, Client\n",
    "import pandas as pd\n",
    "import matplotlib.pyplot as plt\n",
    "import seaborn as sns\n",
    "import numpy as np\n",
    "import math\n",
    "from scipy.stats import spearmanr\n",
    "\n",
    "%matplotlib inline\n",
    "\n",
    "# Load environment variables\n",
    "load_dotenv()\n",
    "\n",
    "# Connect to Supabase\n",
    "url = os.getenv(\"SUPABASE_URL\")\n",
    "key = os.getenv(\"SUPABASE_KEY\")\n",
    "supabase: Client = create_client(url, key)"
   ]
  },
  {
   "cell_type": "code",
   "execution_count": 46,
   "id": "57f79aa1-8bf2-416b-b08f-08b963d03a95",
   "metadata": {},
   "outputs": [
    {
     "name": "stdout",
     "output_type": "stream",
     "text": [
      "    id user_handle                    film_slug              film_title  \\\n",
      "0  705    aaviva_c             lilo-stitch-2025           Lilo & Stitch   \n",
      "1  211    guigui08                           f9                      F9   \n",
      "2  706    aaviva_c                     ne-zha-2                Ne Zha 2   \n",
      "3  707    aaviva_c  a-place-called-silence-2024  A Place Called Silence   \n",
      "4  708    aaviva_c               look-back-2024               Look Back   \n",
      "\n",
      "   rating  liked                  created_at  film_year  \\\n",
      "0     3.0  False  2025-07-05T16:48:06.824989       2025   \n",
      "1     3.0   True  2025-07-05T16:47:07.761406       2021   \n",
      "2     4.0  False  2025-07-05T16:48:06.824989       2025   \n",
      "3     3.0  False  2025-07-05T16:48:06.824989       2024   \n",
      "4     4.5  False  2025-07-05T16:48:06.824989       2024   \n",
      "\n",
      "          film_directors                                  films_genres  \\\n",
      "0  [Dean Fleischer Camp]  [Adventure, Science Fiction, Comedy, Family]   \n",
      "1           [Justin Lin]                    [Crime, Adventure, Action]   \n",
      "2              [Yang Yu]       [Fantasy, Action, Adventure, Animation]   \n",
      "3        [Boon-lip Quah]                    [Mystery, Thriller, Crime]   \n",
      "4    [Kiyotaka Oshiyama]                            [Animation, Drama]   \n",
      "\n",
      "               films_film_slug  \n",
      "0             lilo-stitch-2025  \n",
      "1                           f9  \n",
      "2                     ne-zha-2  \n",
      "3  a-place-called-silence-2024  \n",
      "4               look-back-2024  \n"
     ]
    }
   ],
   "source": [
    "data = supabase.table('user_films_with_films').select('*').execute()\n",
    "df = pd.DataFrame(data.data)\n",
    "print(df.head())"
   ]
  },
  {
   "cell_type": "code",
   "execution_count": 48,
   "id": "4d4b181a-9211-4483-be49-d7a1a85a6a09",
   "metadata": {},
   "outputs": [
    {
     "data": {
      "text/html": [
       "<div>\n",
       "<style scoped>\n",
       "    .dataframe tbody tr th:only-of-type {\n",
       "        vertical-align: middle;\n",
       "    }\n",
       "\n",
       "    .dataframe tbody tr th {\n",
       "        vertical-align: top;\n",
       "    }\n",
       "\n",
       "    .dataframe thead th {\n",
       "        text-align: right;\n",
       "    }\n",
       "</style>\n",
       "<table border=\"1\" class=\"dataframe\">\n",
       "  <thead>\n",
       "    <tr style=\"text-align: right;\">\n",
       "      <th></th>\n",
       "      <th>id</th>\n",
       "      <th>rating</th>\n",
       "      <th>film_year</th>\n",
       "    </tr>\n",
       "  </thead>\n",
       "  <tbody>\n",
       "    <tr>\n",
       "      <th>count</th>\n",
       "      <td>732.000000</td>\n",
       "      <td>727.000000</td>\n",
       "      <td>732.000000</td>\n",
       "    </tr>\n",
       "    <tr>\n",
       "      <th>mean</th>\n",
       "      <td>431.418033</td>\n",
       "      <td>3.455983</td>\n",
       "      <td>2012.566940</td>\n",
       "    </tr>\n",
       "    <tr>\n",
       "      <th>std</th>\n",
       "      <td>223.279799</td>\n",
       "      <td>0.999029</td>\n",
       "      <td>11.648742</td>\n",
       "    </tr>\n",
       "    <tr>\n",
       "      <th>min</th>\n",
       "      <td>1.000000</td>\n",
       "      <td>0.500000</td>\n",
       "      <td>1936.000000</td>\n",
       "    </tr>\n",
       "    <tr>\n",
       "      <th>25%</th>\n",
       "      <td>255.750000</td>\n",
       "      <td>3.000000</td>\n",
       "      <td>2007.750000</td>\n",
       "    </tr>\n",
       "    <tr>\n",
       "      <th>50%</th>\n",
       "      <td>438.500000</td>\n",
       "      <td>3.500000</td>\n",
       "      <td>2016.000000</td>\n",
       "    </tr>\n",
       "    <tr>\n",
       "      <th>75%</th>\n",
       "      <td>621.250000</td>\n",
       "      <td>4.000000</td>\n",
       "      <td>2021.000000</td>\n",
       "    </tr>\n",
       "    <tr>\n",
       "      <th>max</th>\n",
       "      <td>804.000000</td>\n",
       "      <td>5.000000</td>\n",
       "      <td>2025.000000</td>\n",
       "    </tr>\n",
       "  </tbody>\n",
       "</table>\n",
       "</div>"
      ],
      "text/plain": [
       "               id      rating    film_year\n",
       "count  732.000000  727.000000   732.000000\n",
       "mean   431.418033    3.455983  2012.566940\n",
       "std    223.279799    0.999029    11.648742\n",
       "min      1.000000    0.500000  1936.000000\n",
       "25%    255.750000    3.000000  2007.750000\n",
       "50%    438.500000    3.500000  2016.000000\n",
       "75%    621.250000    4.000000  2021.000000\n",
       "max    804.000000    5.000000  2025.000000"
      ]
     },
     "execution_count": 48,
     "metadata": {},
     "output_type": "execute_result"
    }
   ],
   "source": [
    "df.describe()"
   ]
  },
  {
   "cell_type": "code",
   "execution_count": 144,
   "id": "54263cb8-17c2-46f3-8d3f-76424c38f1ef",
   "metadata": {},
   "outputs": [],
   "source": [
    "plt.close('all')\n",
    "\n",
    "df_aaviva_c = df[df['user_handle'] == aaviva_c]\n",
    "df_guigui08 = df[df['user_handle'] == guigui08]"
   ]
  },
  {
   "cell_type": "code",
   "execution_count": 154,
   "id": "c9b8add1-ee9d-4937-9ab5-b791faf0eeba",
   "metadata": {},
   "outputs": [],
   "source": [
    "def rating_alignment_score(df_a, df_b):\n",
    "    # Align by common film_slug\n",
    "    common = set(df_a['film_slug']) & set(df_b['film_slug'])\n",
    "    if not common:\n",
    "        return 0.0\n",
    "\n",
    "    df_a_common = df_a[df_a['film_slug'].isin(common)].copy().sort_values('film_slug')\n",
    "    df_b_common = df_b[df_b['film_slug'].isin(common)].copy().sort_values('film_slug')\n",
    "\n",
    "    ratings_a = np.array(df_a_common['rating'])\n",
    "    ratings_b = np.array(df_b_common['rating'])\n",
    "\n",
    "    # Agreement rate (within 0.5 stars)\n",
    "    agreement_rate = np.mean(np.abs(ratings_a - ratings_b) <= 0.5)\n",
    "\n",
    "    # Mean absolute difference (scaled)\n",
    "    mad = np.mean(np.abs(ratings_a - ratings_b))\n",
    "    mad_scaled = 1 - (mad / 3)\n",
    "\n",
    "    # Spearman correlation (scaled)\n",
    "    rho, _ = spearmanr(ratings_a, ratings_b)\n",
    "    rho_scaled = (rho + 1) / 2 if not np.isnan(rho) else 0.5\n",
    "\n",
    "    # Final weighted score\n",
    "    score = (\n",
    "        0.5 * agreement_rate +\n",
    "        0.3 * mad_scaled +\n",
    "        0.2 * rho_scaled\n",
    "    )\n",
    "\n",
    "    return round(score * 30, 2)  # out of 30"
   ]
  },
  {
   "cell_type": "code",
   "execution_count": 156,
   "id": "b14d03a3-bb03-4130-b4c1-fe9d9f39c804",
   "metadata": {
    "scrolled": true
   },
   "outputs": [
    {
     "data": {
      "text/plain": [
       "18.17"
      ]
     },
     "execution_count": 156,
     "metadata": {},
     "output_type": "execute_result"
    }
   ],
   "source": [
    "rating_alignment_score(df_aaviva_c, df_guigui08)"
   ]
  },
  {
   "cell_type": "code",
   "execution_count": 140,
   "id": "d2cba8e2-74bb-4801-a476-bfa81fc81acc",
   "metadata": {},
   "outputs": [],
   "source": [
    "def relative_overlap_score(df_a, df_b):\n",
    "    films_a = set(df_a['film_slug'])\n",
    "    films_b = set(df_b['film_slug'])\n",
    "\n",
    "    mutual = films_a & films_b\n",
    "    total = films_a | films_b\n",
    "\n",
    "    if not total:\n",
    "        return 0.0\n",
    "\n",
    "    relative_overlap = len(mutual) / len(total)\n",
    "    return round(relative_overlap * 20, 2)  # out of 20"
   ]
  },
  {
   "cell_type": "code",
   "execution_count": 158,
   "id": "fc693cce-c0c8-42be-b4b1-77aee39a04b4",
   "metadata": {},
   "outputs": [
    {
     "data": {
      "text/plain": [
       "1.03"
      ]
     },
     "execution_count": 158,
     "metadata": {},
     "output_type": "execute_result"
    }
   ],
   "source": [
    "relative_overlap_score(df_aaviva_c, df_guigui08)"
   ]
  },
  {
   "cell_type": "code",
   "execution_count": null,
   "id": "a5feafee-3eb5-4518-9d98-8a3da7ca6688",
   "metadata": {},
   "outputs": [],
   "source": []
  }
 ],
 "metadata": {
  "kernelspec": {
   "display_name": "Python 3 (ipykernel)",
   "language": "python",
   "name": "python3"
  },
  "language_info": {
   "codemirror_mode": {
    "name": "ipython",
    "version": 3
   },
   "file_extension": ".py",
   "mimetype": "text/x-python",
   "name": "python",
   "nbconvert_exporter": "python",
   "pygments_lexer": "ipython3",
   "version": "3.12.2"
  }
 },
 "nbformat": 4,
 "nbformat_minor": 5
}
