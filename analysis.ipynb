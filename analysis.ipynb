{
 "cells": [
  {
   "cell_type": "code",
   "execution_count": 8,
   "id": "c4be91a8-09d6-44a0-89e0-80eef676eeb6",
   "metadata": {},
   "outputs": [],
   "source": [
    "from dotenv import load_dotenv\n",
    "import os\n",
    "from supabase import create_client, Client\n",
    "import pandas as pd\n",
    "import matplotlib.pyplot as plt\n",
    "import seaborn as sns\n",
    "import numpy as np\n",
    "import math\n",
    "from scipy.stats import spearmanr\n",
    "from numpy.linalg import norm\n",
    "from collections import Counter\n",
    "\n",
    "%matplotlib inline\n",
    "\n",
    "# Load environment variables\n",
    "load_dotenv()\n",
    "\n",
    "# Connect to Supabase\n",
    "url = os.getenv(\"SUPABASE_URL\")\n",
    "key = os.getenv(\"SUPABASE_KEY\")\n",
    "supabase: Client = create_client(url, key)"
   ]
  },
  {
   "cell_type": "code",
   "execution_count": 9,
   "id": "57f79aa1-8bf2-416b-b08f-08b963d03a95",
   "metadata": {},
   "outputs": [
    {
     "name": "stdout",
     "output_type": "stream",
     "text": [
      "    id user_handle                    film_slug              film_title  \\\n",
      "0  705    aaviva_c             lilo-stitch-2025           Lilo & Stitch   \n",
      "1  706    aaviva_c                     ne-zha-2                Ne Zha 2   \n",
      "2  707    aaviva_c  a-place-called-silence-2024  A Place Called Silence   \n",
      "3  708    aaviva_c               look-back-2024               Look Back   \n",
      "4  709    aaviva_c            inside-out-2-2024            Inside Out 2   \n",
      "\n",
      "   rating  liked                  created_at  film_year  \\\n",
      "0     3.0  False  2025-07-05T16:48:06.824989       2025   \n",
      "1     4.0  False  2025-07-05T16:48:06.824989       2025   \n",
      "2     3.0  False  2025-07-05T16:48:06.824989       2024   \n",
      "3     4.5  False  2025-07-05T16:48:06.824989       2024   \n",
      "4     3.5  False  2025-07-05T16:48:06.824989       2024   \n",
      "\n",
      "          film_directors                                  films_genres  \\\n",
      "0  [Dean Fleischer Camp]  [Adventure, Science Fiction, Comedy, Family]   \n",
      "1              [Yang Yu]       [Fantasy, Action, Adventure, Animation]   \n",
      "2        [Boon-lip Quah]                    [Mystery, Thriller, Crime]   \n",
      "3    [Kiyotaka Oshiyama]                            [Animation, Drama]   \n",
      "4          [Kelsey Mann]        [Comedy, Family, Adventure, Animation]   \n",
      "\n",
      "               films_film_slug  films_popularity  \n",
      "0             lilo-stitch-2025            443982  \n",
      "1                     ne-zha-2             30008  \n",
      "2  a-place-called-silence-2024              6355  \n",
      "3               look-back-2024            340385  \n",
      "4            inside-out-2-2024           2643576  \n"
     ]
    }
   ],
   "source": [
    "data = supabase.table('user_films_with_films').select('*').execute()\n",
    "df = pd.DataFrame(data.data)\n",
    "print(df.head())"
   ]
  },
  {
   "cell_type": "code",
   "execution_count": 10,
   "id": "4d4b181a-9211-4483-be49-d7a1a85a6a09",
   "metadata": {},
   "outputs": [
    {
     "data": {
      "text/html": [
       "<div>\n",
       "<style scoped>\n",
       "    .dataframe tbody tr th:only-of-type {\n",
       "        vertical-align: middle;\n",
       "    }\n",
       "\n",
       "    .dataframe tbody tr th {\n",
       "        vertical-align: top;\n",
       "    }\n",
       "\n",
       "    .dataframe thead th {\n",
       "        text-align: right;\n",
       "    }\n",
       "</style>\n",
       "<table border=\"1\" class=\"dataframe\">\n",
       "  <thead>\n",
       "    <tr style=\"text-align: right;\">\n",
       "      <th></th>\n",
       "      <th>id</th>\n",
       "      <th>rating</th>\n",
       "      <th>film_year</th>\n",
       "      <th>films_popularity</th>\n",
       "    </tr>\n",
       "  </thead>\n",
       "  <tbody>\n",
       "    <tr>\n",
       "      <th>count</th>\n",
       "      <td>1000.000000</td>\n",
       "      <td>778.000000</td>\n",
       "      <td>1000.000000</td>\n",
       "      <td>1.000000e+03</td>\n",
       "    </tr>\n",
       "    <tr>\n",
       "      <th>mean</th>\n",
       "      <td>3491.081000</td>\n",
       "      <td>3.457584</td>\n",
       "      <td>2013.989000</td>\n",
       "      <td>1.622898e+06</td>\n",
       "    </tr>\n",
       "    <tr>\n",
       "      <th>std</th>\n",
       "      <td>4662.715994</td>\n",
       "      <td>0.992961</td>\n",
       "      <td>9.077184</td>\n",
       "      <td>1.392130e+06</td>\n",
       "    </tr>\n",
       "    <tr>\n",
       "      <th>min</th>\n",
       "      <td>1.000000</td>\n",
       "      <td>0.500000</td>\n",
       "      <td>1942.000000</td>\n",
       "      <td>1.210000e+02</td>\n",
       "    </tr>\n",
       "    <tr>\n",
       "      <th>25%</th>\n",
       "      <td>338.750000</td>\n",
       "      <td>3.000000</td>\n",
       "      <td>2010.000000</td>\n",
       "      <td>4.262465e+05</td>\n",
       "    </tr>\n",
       "    <tr>\n",
       "      <th>50%</th>\n",
       "      <td>588.500000</td>\n",
       "      <td>3.500000</td>\n",
       "      <td>2017.000000</td>\n",
       "      <td>1.209060e+06</td>\n",
       "    </tr>\n",
       "    <tr>\n",
       "      <th>75%</th>\n",
       "      <td>10435.250000</td>\n",
       "      <td>4.000000</td>\n",
       "      <td>2021.000000</td>\n",
       "      <td>2.597253e+06</td>\n",
       "    </tr>\n",
       "    <tr>\n",
       "      <th>max</th>\n",
       "      <td>10830.000000</td>\n",
       "      <td>5.000000</td>\n",
       "      <td>2025.000000</td>\n",
       "      <td>5.752396e+06</td>\n",
       "    </tr>\n",
       "  </tbody>\n",
       "</table>\n",
       "</div>"
      ],
      "text/plain": [
       "                 id      rating    film_year  films_popularity\n",
       "count   1000.000000  778.000000  1000.000000      1.000000e+03\n",
       "mean    3491.081000    3.457584  2013.989000      1.622898e+06\n",
       "std     4662.715994    0.992961     9.077184      1.392130e+06\n",
       "min        1.000000    0.500000  1942.000000      1.210000e+02\n",
       "25%      338.750000    3.000000  2010.000000      4.262465e+05\n",
       "50%      588.500000    3.500000  2017.000000      1.209060e+06\n",
       "75%    10435.250000    4.000000  2021.000000      2.597253e+06\n",
       "max    10830.000000    5.000000  2025.000000      5.752396e+06"
      ]
     },
     "execution_count": 10,
     "metadata": {},
     "output_type": "execute_result"
    }
   ],
   "source": [
    "df.describe()"
   ]
  },
  {
   "cell_type": "code",
   "execution_count": 98,
   "id": "54263cb8-17c2-46f3-8d3f-76424c38f1ef",
   "metadata": {},
   "outputs": [],
   "source": [
    "plt.close('all')\n",
    "\n",
    "df_aaviva_c = df[df['user_handle'] == 'aaviva_c']\n",
    "df_guigui08 = df[df['user_handle'] == 'guigui08']\n",
    "df_kevinchen = df[df['user_handle'] == 'iokkeichen']"
   ]
  },
  {
   "cell_type": "code",
   "execution_count": 66,
   "id": "c9b8add1-ee9d-4937-9ab5-b791faf0eeba",
   "metadata": {},
   "outputs": [],
   "source": [
    "def rating_alignment_score(df_a, df_b):\n",
    "\n",
    "    df_a = df_a.dropna(subset='rating')\n",
    "    df_b = df_b.dropna(subset='rating')\n",
    "    \n",
    "    # Align by common film_slug\n",
    "    common = set(df_a['film_slug']) & set(df_b['film_slug'])\n",
    "    if not common:\n",
    "        return 0.0\n",
    "\n",
    "    df_a_common = df_a[df_a['film_slug'].isin(common)].copy().sort_values('film_slug')\n",
    "    df_b_common = df_b[df_b['film_slug'].isin(common)].copy().sort_values('film_slug')\n",
    "\n",
    "    ratings_a = np.array(df_a_common['rating'])\n",
    "    ratings_b = np.array(df_b_common['rating'])\n",
    "\n",
    "    # Agreement rate (within 0.5 stars)\n",
    "    agreement_rate = np.mean(np.abs(ratings_a - ratings_b) <= 0.5)\n",
    "\n",
    "    # Mean absolute difference (scaled)\n",
    "    mad = np.mean(np.abs(ratings_a - ratings_b))\n",
    "    mad_scaled = 1 - (mad / 3)\n",
    "\n",
    "    # Spearman correlation (scaled)\n",
    "    rho, _ = spearmanr(ratings_a, ratings_b)\n",
    "    rho_scaled = (rho + 1) / 2 if not np.isnan(rho) else 0.5\n",
    "\n",
    "    # Final weighted score\n",
    "    score = (\n",
    "        0.5 * agreement_rate +\n",
    "        0.3 * mad_scaled +\n",
    "        0.2 * rho_scaled\n",
    "    )\n",
    "\n",
    "    return round(score * 50, 2)  # out of 50"
   ]
  },
  {
   "cell_type": "code",
   "execution_count": 82,
   "id": "b14d03a3-bb03-4130-b4c1-fe9d9f39c804",
   "metadata": {
    "scrolled": true
   },
   "outputs": [
    {
     "data": {
      "text/plain": [
       "(33.67, 36.24, 30.28)"
      ]
     },
     "execution_count": 82,
     "metadata": {},
     "output_type": "execute_result"
    }
   ],
   "source": [
    "rating_alignment_score(df_guigui08, df_kevinchen), rating_alignment_score(df_aaviva_c, df_kevinchen), rating_alignment_score(df_guigui08, df_aaviva_c)"
   ]
  },
  {
   "cell_type": "code",
   "execution_count": 86,
   "id": "d2cba8e2-74bb-4801-a476-bfa81fc81acc",
   "metadata": {},
   "outputs": [],
   "source": [
    "def relative_overlap_score(df_a, df_b):\n",
    "    films_a = set(df_a['film_slug'])\n",
    "    films_b = set(df_b['film_slug'])\n",
    "\n",
    "    if not films_a or not films_b:\n",
    "        return 0.0\n",
    "\n",
    "    mutual = films_a & films_b\n",
    "    min_size = min(len(films_a), len(films_b))\n",
    "\n",
    "    # Avoid div-by-zero, though shouldn't happen\n",
    "    if min_size == 0:\n",
    "        return 0.0\n",
    "\n",
    "    raw_overlap = len(mutual) / min_size\n",
    "    softened = raw_overlap ** 0.7\n",
    "\n",
    "    return round(softened * 10, 2)  # out of 10"
   ]
  },
  {
   "cell_type": "code",
   "execution_count": 88,
   "id": "fc693cce-c0c8-42be-b4b1-77aee39a04b4",
   "metadata": {},
   "outputs": [
    {
     "data": {
      "text/plain": [
       "(7.04, 4.5, 4.89)"
      ]
     },
     "execution_count": 88,
     "metadata": {},
     "output_type": "execute_result"
    }
   ],
   "source": [
    "relative_overlap_score(df_guigui08, df_kevinchen), relative_overlap_score(df_aaviva_c, df_kevinchen), relative_overlap_score(df_guigui08, df_aaviva_c)"
   ]
  },
  {
   "cell_type": "code",
   "execution_count": 16,
   "id": "a5feafee-3eb5-4518-9d98-8a3da7ca6688",
   "metadata": {},
   "outputs": [],
   "source": [
    "def thematic_overlap_score(df_a, df_b):\n",
    "    # Flatten and clean genre lists\n",
    "    genres_a = set(genre for sublist in df_a['films_genres'] for genre in sublist)\n",
    "    genres_b = set(genre for sublist in df_b['films_genres'] for genre in sublist)\n",
    "\n",
    "    if not genres_a or not genres_b:\n",
    "        return 0.0\n",
    "\n",
    "    mutual = genres_a & genres_b\n",
    "    total = genres_a | genres_b\n",
    "\n",
    "    overlap_ratio = len(mutual) / len(total)\n",
    "    return round(overlap_ratio * 10, 2)  # out of 10"
   ]
  },
  {
   "cell_type": "code",
   "execution_count": 90,
   "id": "66f4bc0f-15c5-4dce-998b-4da198431773",
   "metadata": {},
   "outputs": [
    {
     "data": {
      "text/plain": [
       "(9.44, 9.41, 8.89)"
      ]
     },
     "execution_count": 90,
     "metadata": {},
     "output_type": "execute_result"
    }
   ],
   "source": [
    "thematic_overlap_score(df_guigui08, df_kevinchen), thematic_overlap_score(df_aaviva_c, df_kevinchen), thematic_overlap_score(df_guigui08, df_aaviva_c)"
   ]
  },
  {
   "cell_type": "code",
   "execution_count": 18,
   "id": "c7db03af-3245-4a02-bd80-ee557ea9c8f8",
   "metadata": {},
   "outputs": [],
   "source": [
    "def plot_obscurity_histograms(df_a, df_b, popularity_col='films_popularity', bins=10):\n",
    "    # Log-transform for binning\n",
    "    log_pop_a = np.log1p(df_a[popularity_col].values)\n",
    "    log_pop_b = np.log1p(df_b[popularity_col].values)\n",
    "\n",
    "    # Shared bin edges in log space\n",
    "    all_log_pop = np.concatenate([log_pop_a, log_pop_b])\n",
    "    bin_edges_log = np.histogram_bin_edges(all_log_pop, bins=bins)\n",
    "\n",
    "    # Histogram counts (normalized to %)\n",
    "    hist_a, _ = np.histogram(log_pop_a, bins=bin_edges_log)\n",
    "    hist_b, _ = np.histogram(log_pop_b, bins=bin_edges_log)\n",
    "    hist_a = hist_a / hist_a.sum() * 100\n",
    "    hist_b = hist_b / hist_b.sum() * 100\n",
    "\n",
    "    # Plot directly in log space\n",
    "    plt.figure(figsize=(8, 5))\n",
    "    width = (bin_edges_log[1] - bin_edges_log[0]) * 0.4\n",
    "    plt.bar(bin_edges_log[:-1], hist_a, width=width, align='edge', alpha=0.7, label='User A')\n",
    "    plt.bar(bin_edges_log[:-1] + width, hist_b, width=width, align='edge', alpha=0.7, label='User B')\n",
    "\n",
    "    # Set ticks exactly at bin edges\n",
    "    tick_positions = bin_edges_log\n",
    "    tick_labels = [f\"{int(np.expm1(tick)):,}\" for tick in tick_positions]\n",
    "    plt.xticks(tick_positions, tick_labels, rotation=45, ha='right')\n",
    "\n",
    "    plt.xlabel('Letterboxd Watch Count (Popularity)')\n",
    "    plt.ylabel('Percentage of Films')\n",
    "    plt.title('Obscurity Profile Comparison')\n",
    "    plt.legend()\n",
    "    plt.tight_layout()\n",
    "    plt.show()"
   ]
  },
  {
   "cell_type": "code",
   "execution_count": 19,
   "id": "e55d8982-a612-4015-9b5c-3eff866bc001",
   "metadata": {},
   "outputs": [
    {
     "data": {
      "image/png": "[encoded data removed]",
      "text/plain": [
       "<Figure size 800x500 with 1 Axes>"
      ]
     },
     "metadata": {},
     "output_type": "display_data"
    }
   ],
   "source": [
    "plot_obscurity_histograms(df_aaviva_c, df_guigui08, popularity_col='films_popularity', bins=12)"
   ]
  },
  {
   "cell_type": "code",
   "execution_count": 20,
   "id": "23a7b654-801f-43b2-8de7-563bba6c2648",
   "metadata": {},
   "outputs": [],
   "source": [
    "def obscurity_alignment_score(df_a, df_b, popularity_col='films_popularity', bins=12):\n",
    "    # Log-transform popularity for binning\n",
    "    log_pop_a = np.log1p(df_a[popularity_col].values)\n",
    "    log_pop_b = np.log1p(df_b[popularity_col].values)\n",
    "\n",
    "    # Shared bin edges across both users (in log space)\n",
    "    all_log_pop = np.concatenate([log_pop_a, log_pop_b])\n",
    "    bin_edges_log = np.histogram_bin_edges(all_log_pop, bins=bins)\n",
    "\n",
    "    # Histograms: counts per bin\n",
    "    hist_a, _ = np.histogram(log_pop_a, bins=bin_edges_log)\n",
    "    hist_b, _ = np.histogram(log_pop_b, bins=bin_edges_log)\n",
    "\n",
    "    # Convert counts to percentages\n",
    "    hist_a = hist_a / hist_a.sum() * 100 if hist_a.sum() > 0 else hist_a\n",
    "    hist_b = hist_b / hist_b.sum() * 100 if hist_b.sum() > 0 else hist_b\n",
    "\n",
    "    # If either has no films, return 0\n",
    "    if hist_a.sum() == 0 or hist_b.sum() == 0:\n",
    "        return 0.0\n",
    "\n",
    "    # Manhattan distance (L1)\n",
    "    # Max possible distance is 200 (100% vs 0% in each bin)\n",
    "    manhattan_distance = np.sum(np.abs(hist_a - hist_b))\n",
    "    score = (1 - (manhattan_distance / 200)) * 10  # scale to 0–10\n",
    "\n",
    "    return round(score, 2)"
   ]
  },
  {
   "cell_type": "code",
   "execution_count": 92,
   "id": "595007d8-6b83-4872-bb5b-a96cd4c2d202",
   "metadata": {},
   "outputs": [
    {
     "data": {
      "text/plain": [
       "(7.67, 7.85, 6.91)"
      ]
     },
     "execution_count": 92,
     "metadata": {},
     "output_type": "execute_result"
    }
   ],
   "source": [
    "obscurity_alignment_score(df_guigui08, df_kevinchen), obscurity_alignment_score(df_aaviva_c, df_kevinchen), obscurity_alignment_score(df_guigui08, df_aaviva_c)"
   ]
  },
  {
   "cell_type": "code",
   "execution_count": 42,
   "id": "2cb89948-6369-4ba6-bd23-7654b3e6574f",
   "metadata": {},
   "outputs": [],
   "source": [
    "def director_overlap_score(df_a, df_b, director_col='film_directors', power=0.5, min_count=3):\n",
    "    def get_director_counts(df):\n",
    "        counter = Counter()\n",
    "        for d in df[director_col]:\n",
    "            if isinstance(d, list):\n",
    "                directors = [name.strip() for name in d]\n",
    "            elif isinstance(d, str):\n",
    "                directors = [name.strip() for name in d.split(',')]\n",
    "            else:\n",
    "                continue\n",
    "            counter.update(directors)\n",
    "        return counter\n",
    "\n",
    "    # Count how many times each director appears\n",
    "    counts_a = get_director_counts(df_a)\n",
    "    counts_b = get_director_counts(df_b)\n",
    "\n",
    "    # Only include directors with at least `min_count` films logged\n",
    "    directors_a = {d for d, count in counts_a.items() if count >= min_count}\n",
    "    directors_b = {d for d, count in counts_b.items() if count >= min_count}\n",
    "\n",
    "    if not directors_a or not directors_b:\n",
    "        return 0.0\n",
    "\n",
    "    mutual = directors_a & directors_b\n",
    "\n",
    "    # Coverage per user\n",
    "    coverage_a = len(mutual) / len(directors_a)\n",
    "    coverage_b = len(mutual) / len(directors_b)\n",
    "\n",
    "    avg_coverage = (coverage_a + coverage_b) / 2\n",
    "    softened = math.pow(avg_coverage, power)\n",
    "\n",
    "    return round(softened * 10, 2)"
   ]
  },
  {
   "cell_type": "code",
   "execution_count": 94,
   "id": "c1660afa-559a-48a0-a946-a2e082f503fa",
   "metadata": {},
   "outputs": [
    {
     "data": {
      "text/plain": [
       "(6.1, 7.75, 5.91)"
      ]
     },
     "execution_count": 94,
     "metadata": {},
     "output_type": "execute_result"
    }
   ],
   "source": [
    "director_overlap_score(df_guigui08, df_kevinchen), director_overlap_score(df_aaviva_c, df_kevinchen), director_overlap_score(df_guigui08, df_aaviva_c)"
   ]
  },
  {
   "cell_type": "code",
   "execution_count": 46,
   "id": "186d7533-8795-49a7-8258-635f1ec08f49",
   "metadata": {},
   "outputs": [],
   "source": [
    "def diversity_bonus(df_a, df_b, genres_col='films_genres', max_genres=20):\n",
    "    # 1. Identify mutual films\n",
    "    mutual_slugs = set(df_a['film_slug']) & set(df_b['film_slug'])\n",
    "\n",
    "    if not mutual_slugs:\n",
    "        return 0.0\n",
    "\n",
    "    # 2. Subset both to mutual films\n",
    "    df_a_mutual = df_a[df_a['film_slug'].isin(mutual_slugs)]\n",
    "    df_b_mutual = df_b[df_b['film_slug'].isin(mutual_slugs)]\n",
    "\n",
    "    # 3. Combine genre sets from both users' records of mutual films\n",
    "    genres = set()\n",
    "    for genres_list in list(df_a_mutual[genres_col]) + list(df_b_mutual[genres_col]):\n",
    "        if isinstance(genres_list, list):\n",
    "            genres.update([g.strip() for g in genres_list])\n",
    "        elif isinstance(genres_list, str):\n",
    "            genres.update([g.strip() for g in genres_list.split(',')])\n",
    "\n",
    "    # 4. Normalize: more genres → higher diversity\n",
    "    diversity_ratio = min(len(genres), max_genres) / max_genres\n",
    "    return round(diversity_ratio * 10, 2)"
   ]
  },
  {
   "cell_type": "code",
   "execution_count": 96,
   "id": "7668526b-5f8b-40ba-b222-1545a716328e",
   "metadata": {},
   "outputs": [
    {
     "data": {
      "text/plain": [
       "(8.0, 8.0, 8.0)"
      ]
     },
     "execution_count": 96,
     "metadata": {},
     "output_type": "execute_result"
    }
   ],
   "source": [
    "diversity_bonus(df_guigui08, df_kevinchen), diversity_bonus(df_aaviva_c, df_kevinchen), diversity_bonus(df_guigui08, df_aaviva_c)"
   ]
  },
  {
   "cell_type": "code",
   "execution_count": 50,
   "id": "e6da702c-3389-44d5-9fac-fefa33679447",
   "metadata": {},
   "outputs": [],
   "source": [
    "def cineblend_score(df_a, df_b):\n",
    "    # Each function already returns a value between 0 and its weighted share of 100\n",
    "    rating = rating_alignment_score(df_a, df_b)\n",
    "    overlap = relative_overlap_score(df_a, df_b)\n",
    "    theme = thematic_overlap_score(df_a, df_b)\n",
    "    obscurity = obscurity_alignment_score(df_a, df_b)\n",
    "    directors = director_overlap_score(df_a, df_b)\n",
    "    diversity = diversity_bonus(df_a, df_b)\n",
    "\n",
    "    # Convert any sets to floats before adding\n",
    "    # This is the likely source of the error\n",
    "    rating = float(rating) if isinstance(rating, set) else rating\n",
    "    overlap = float(overlap) if isinstance(overlap, set) else overlap\n",
    "    theme = float(theme) if isinstance(theme, set) else theme\n",
    "    obscurity = float(obscurity) if isinstance(obscurity, set) else obscurity\n",
    "    directors = float(directors) if isinstance(directors, set) else directors\n",
    "    diversity = float(diversity) if isinstance(diversity, set) else diversity\n",
    "\n",
    "    total_score = rating + overlap + theme + obscurity + directors + diversity\n",
    "    return round(total_score, 2)"
   ]
  },
  {
   "cell_type": "code",
   "execution_count": 102,
   "id": "8c7e2a97-fdef-4750-861d-fa4194d116eb",
   "metadata": {},
   "outputs": [
    {
     "name": "stdout",
     "output_type": "stream",
     "text": [
      "CineBlend Score for aaviva_c and guigui08: 64.88\n"
     ]
    }
   ],
   "source": [
    "print(\"CineBlend Score for aaviva_c and guigui08:\", cineblend_score(df_aaviva_c, df_guigui08)) "
   ]
  },
  {
   "cell_type": "code",
   "execution_count": 104,
   "id": "fdb10a9f-c7d4-40c5-b1af-adae942b57a4",
   "metadata": {},
   "outputs": [
    {
     "name": "stdout",
     "output_type": "stream",
     "text": [
      "CineBlend Score for aaviva_c and iokkeichen: 73.75\n"
     ]
    }
   ],
   "source": [
    "print(\"CineBlend Score for aaviva_c and iokkeichen:\", cineblend_score(df_aaviva_c, df_kevinchen)) "
   ]
  },
  {
   "cell_type": "code",
   "execution_count": 106,
   "id": "f22fc1b0-068a-4457-90e8-ca415cc5fbb7",
   "metadata": {},
   "outputs": [
    {
     "name": "stdout",
     "output_type": "stream",
     "text": [
      "CineBlend Score for guigui08 and iokkeichen: 71.92\n"
     ]
    }
   ],
   "source": [
    "print(\"CineBlend Score for guigui08 and iokkeichen:\", cineblend_score(df_guigui08, df_kevinchen)) "
   ]
  }
 ],
 "metadata": {
  "kernelspec": {
   "display_name": "Python 3 (ipykernel)",
   "language": "python",
   "name": "python3"
  },
  "language_info": {
   "codemirror_mode": {
    "name": "ipython",
    "version": 3
   },
   "file_extension": ".py",
   "mimetype": "text/x-python",
   "name": "python",
   "nbconvert_exporter": "python",
   "pygments_lexer": "ipython3",
   "version": "3.12.2"
  }
 },
 "nbformat": 4,
 "nbformat_minor": 5
}
